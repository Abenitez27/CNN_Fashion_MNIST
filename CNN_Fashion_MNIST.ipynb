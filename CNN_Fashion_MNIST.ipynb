{
  "nbformat": 4,
  "nbformat_minor": 0,
  "metadata": {
    "colab": {
      "name": "CNN Fashion MNIST.ipynb",
      "provenance": [],
      "collapsed_sections": []
    },
    "kernelspec": {
      "name": "python3",
      "display_name": "Python 3"
    },
    "accelerator": "GPU"
  },
  "cells": [
    {
      "cell_type": "code",
      "metadata": {
        "id": "_esvxWuGWe6H",
        "colab": {
          "base_uri": "https://localhost:8080/"
        },
        "outputId": "0b92389c-b421-46f4-e13d-ae67eefbf657"
      },
      "source": [
        "import tensorflow as tf\n",
        "print(tf.__version__)"
      ],
      "execution_count": 1,
      "outputs": [
        {
          "output_type": "stream",
          "text": [
            "2.4.0\n"
          ],
          "name": "stdout"
        }
      ]
    },
    {
      "cell_type": "code",
      "metadata": {
        "id": "stUO9Us3bJDB"
      },
      "source": [
        "import numpy as np\n",
        "import matplotlib.pyplot as plt\n",
        "from tensorflow.keras.models import Model\n",
        "from tensorflow.keras.layers import Input, Conv2D, Dense, Flatten, Dropout"
      ],
      "execution_count": 2,
      "outputs": []
    },
    {
      "cell_type": "code",
      "metadata": {
        "id": "-AOzMkTtbcBq",
        "colab": {
          "base_uri": "https://localhost:8080/"
        },
        "outputId": "6298222b-39de-4097-9cde-3a97cd21a755"
      },
      "source": [
        "# Load in the data\n",
        "fashion_mnist = tf.keras.datasets.fashion_mnist\n",
        "\n",
        "(x_train, y_train), (x_test, y_test) = fashion_mnist.load_data()\n",
        "x_train, x_test = x_train / 255.0, x_test / 255.0\n",
        "print(\"x_train.shape:\", x_train.shape)"
      ],
      "execution_count": 3,
      "outputs": [
        {
          "output_type": "stream",
          "text": [
            "Downloading data from https://storage.googleapis.com/tensorflow/tf-keras-datasets/train-labels-idx1-ubyte.gz\n",
            "32768/29515 [=================================] - 0s 0us/step\n",
            "Downloading data from https://storage.googleapis.com/tensorflow/tf-keras-datasets/train-images-idx3-ubyte.gz\n",
            "26427392/26421880 [==============================] - 0s 0us/step\n",
            "Downloading data from https://storage.googleapis.com/tensorflow/tf-keras-datasets/t10k-labels-idx1-ubyte.gz\n",
            "8192/5148 [===============================================] - 0s 0us/step\n",
            "Downloading data from https://storage.googleapis.com/tensorflow/tf-keras-datasets/t10k-images-idx3-ubyte.gz\n",
            "4423680/4422102 [==============================] - 0s 0us/step\n",
            "x_train.shape: (60000, 28, 28)\n"
          ],
          "name": "stdout"
        }
      ]
    },
    {
      "cell_type": "code",
      "metadata": {
        "id": "gaeAQgVgerfe",
        "colab": {
          "base_uri": "https://localhost:8080/"
        },
        "outputId": "d56ffd81-5860-442c-e4fb-ad07b7835436"
      },
      "source": [
        "# the data is only 2D!\n",
        "# Convolution expects height X width X color\n",
        "\n",
        "x_train = np.expand_dims(x_train, -1)\n",
        "x_test = np.expand_dims(x_test, -1)\n",
        "print(x_train.shape)\n"
      ],
      "execution_count": 4,
      "outputs": [
        {
          "output_type": "stream",
          "text": [
            "(60000, 28, 28, 1)\n"
          ],
          "name": "stdout"
        }
      ]
    },
    {
      "cell_type": "code",
      "metadata": {
        "id": "C5XXTHpmfYmD",
        "colab": {
          "base_uri": "https://localhost:8080/"
        },
        "outputId": "5557da24-cbb0-4ec2-b4b4-375d361303f1"
      },
      "source": [
        "# number of classes\n",
        "\n",
        "K= len(set(y_train))\n",
        "print(\"Number of classes: \", K)"
      ],
      "execution_count": 5,
      "outputs": [
        {
          "output_type": "stream",
          "text": [
            "Number of classes:  10\n"
          ],
          "name": "stdout"
        }
      ]
    },
    {
      "cell_type": "code",
      "metadata": {
        "id": "tZjmzGEcf-xJ"
      },
      "source": [
        "# build the model using the funcitonal API\n",
        "\n",
        "i = Input(shape=x_train[0].shape)\n",
        "x = Conv2D(32, (3,3), strides=2, activation='relu')(i)\n",
        "x = Conv2D(64, (3,3), strides=2, activation='relu')(x)\n",
        "x = Conv2D(128, (3,3), strides=2, activation='relu')(x)\n",
        "x = Flatten()(x)\n",
        "x = Dropout(0.2)(x)\n",
        "x = Dense(512, activation='relu')(x)\n",
        "x = Dropout(0.2)(x)\n",
        "x = Dense(K, activation='softmax')(x)\n",
        "\n",
        "model = Model(i, x)"
      ],
      "execution_count": 6,
      "outputs": []
    },
    {
      "cell_type": "code",
      "metadata": {
        "id": "B3sWyo-WiA-r",
        "colab": {
          "base_uri": "https://localhost:8080/"
        },
        "outputId": "3577d1ab-321b-482c-a643-af2fba1dc719"
      },
      "source": [
        "# Compile and fit\n",
        "# Note: make sure you are using GPU for this!\n",
        "model.compile(optimizer='adam', \n",
        "              loss = 'sparse_categorical_crossentropy',\n",
        "              metrics=['accuracy'])\n",
        "r = model.fit(x_train, y_train, validation_data=(x_test, y_test), epochs=15)"
      ],
      "execution_count": 7,
      "outputs": [
        {
          "output_type": "stream",
          "text": [
            "Epoch 1/15\n",
            "1875/1875 [==============================] - 13s 3ms/step - loss: 0.7116 - accuracy: 0.7383 - val_loss: 0.4113 - val_accuracy: 0.8471\n",
            "Epoch 2/15\n",
            "1875/1875 [==============================] - 5s 3ms/step - loss: 0.3726 - accuracy: 0.8606 - val_loss: 0.3396 - val_accuracy: 0.8758\n",
            "Epoch 3/15\n",
            "1875/1875 [==============================] - 5s 3ms/step - loss: 0.3134 - accuracy: 0.8817 - val_loss: 0.3237 - val_accuracy: 0.8755\n",
            "Epoch 4/15\n",
            "1875/1875 [==============================] - 5s 3ms/step - loss: 0.2774 - accuracy: 0.8950 - val_loss: 0.3051 - val_accuracy: 0.8875\n",
            "Epoch 5/15\n",
            "1875/1875 [==============================] - 5s 3ms/step - loss: 0.2518 - accuracy: 0.9043 - val_loss: 0.3108 - val_accuracy: 0.8897\n",
            "Epoch 6/15\n",
            "1875/1875 [==============================] - 6s 3ms/step - loss: 0.2234 - accuracy: 0.9159 - val_loss: 0.2924 - val_accuracy: 0.8927\n",
            "Epoch 7/15\n",
            "1875/1875 [==============================] - 5s 3ms/step - loss: 0.2049 - accuracy: 0.9229 - val_loss: 0.2901 - val_accuracy: 0.9001\n",
            "Epoch 8/15\n",
            "1875/1875 [==============================] - 5s 3ms/step - loss: 0.1870 - accuracy: 0.9295 - val_loss: 0.2928 - val_accuracy: 0.9013\n",
            "Epoch 9/15\n",
            "1875/1875 [==============================] - 5s 3ms/step - loss: 0.1738 - accuracy: 0.9331 - val_loss: 0.3061 - val_accuracy: 0.8975\n",
            "Epoch 10/15\n",
            "1875/1875 [==============================] - 5s 3ms/step - loss: 0.1595 - accuracy: 0.9378 - val_loss: 0.2991 - val_accuracy: 0.9040\n",
            "Epoch 11/15\n",
            "1875/1875 [==============================] - 5s 3ms/step - loss: 0.1496 - accuracy: 0.9428 - val_loss: 0.3098 - val_accuracy: 0.8992\n",
            "Epoch 12/15\n",
            "1875/1875 [==============================] - 5s 3ms/step - loss: 0.1420 - accuracy: 0.9447 - val_loss: 0.3080 - val_accuracy: 0.9041\n",
            "Epoch 13/15\n",
            "1875/1875 [==============================] - 5s 3ms/step - loss: 0.1287 - accuracy: 0.9509 - val_loss: 0.3412 - val_accuracy: 0.9027\n",
            "Epoch 14/15\n",
            "1875/1875 [==============================] - 5s 3ms/step - loss: 0.1247 - accuracy: 0.9515 - val_loss: 0.3384 - val_accuracy: 0.9032\n",
            "Epoch 15/15\n",
            "1875/1875 [==============================] - 6s 3ms/step - loss: 0.1168 - accuracy: 0.9559 - val_loss: 0.3381 - val_accuracy: 0.9071\n"
          ],
          "name": "stdout"
        }
      ]
    },
    {
      "cell_type": "code",
      "metadata": {
        "id": "9aVKXGqDjCIk",
        "colab": {
          "base_uri": "https://localhost:8080/",
          "height": 282
        },
        "outputId": "ceb40400-34d8-4670-c431-f3142a8a90c3"
      },
      "source": [
        "plt.plot(r.history['loss'], label='loss')\n",
        "plt.plot(r.history['val_loss'], label='val_loss')\n",
        "plt.legend()"
      ],
      "execution_count": 8,
      "outputs": [
        {
          "output_type": "execute_result",
          "data": {
            "text/plain": [
              "<matplotlib.legend.Legend at 0x7fd605d8db38>"
            ]
          },
          "metadata": {
            "tags": []
          },
          "execution_count": 8
        },
        {
          "output_type": "display_data",
          "data": {
            "image/png": "[encoded data removed]",
            "text/plain": [
              "<Figure size 432x288 with 1 Axes>"
            ]
          },
          "metadata": {
            "tags": [],
            "needs_background": "light"
          }
        }
      ]
    },
    {
      "cell_type": "code",
      "metadata": {
        "id": "mKSCuYaak76O",
        "colab": {
          "base_uri": "https://localhost:8080/",
          "height": 285
        },
        "outputId": "b9fbe8e7-f11a-4586-9a84-a3f73cf604c5"
      },
      "source": [
        "plt.plot(r.history['accuracy'], label='accuracy')\n",
        "plt.plot(r.history['val_accuracy'], label='val_accuracy')\n",
        "plt.legend()"
      ],
      "execution_count": 9,
      "outputs": [
        {
          "output_type": "execute_result",
          "data": {
            "text/plain": [
              "<matplotlib.legend.Legend at 0x7fd605876198>"
            ]
          },
          "metadata": {
            "tags": []
          },
          "execution_count": 9
        },
        {
          "output_type": "display_data",
          "data": {
            "image/png": "[encoded data removed]",
            "text/plain": [
              "<Figure size 432x288 with 1 Axes>"
            ]
          },
          "metadata": {
            "tags": [],
            "needs_background": "light"
          }
        }
      ]
    },
    {
      "cell_type": "code",
      "metadata": {
        "id": "ud8PN89SlOnl",
        "colab": {
          "base_uri": "https://localhost:8080/",
          "height": 496
        },
        "outputId": "380c4c42-9ca1-49a8-ec44-099aa8cc3e6d"
      },
      "source": [
        "#Plot Confusion Matrix:\n",
        "\n",
        "from sklearn.metrics import confusion_matrix\n",
        "import numpy as np\n",
        "import itertools\n",
        "\n",
        "def plot_confusion_matrix(cm ,classes,\n",
        "                          normalize = False,\n",
        "                          title = 'Confusion Matrix',\n",
        "                          cmap=plt.cm.Blues):\n",
        "\n",
        "  if normalize:\n",
        "    cm =cm.astype('float') / cm.sum(axis=1)[:,np.newaxis]\n",
        "    print(\"Normalize Confusion Matrix\")\n",
        "  else:\n",
        "    print(\"Confusion Matrix without normalization\")\n",
        "\n",
        "  print(cm)\n",
        "\n",
        "  plt.imshow(cm, interpolation='nearest', cmap=cmap)\n",
        "  plt.title(title)\n",
        "  plt.colorbar()\n",
        "  tick_marks = np.arange(len(classes))\n",
        "  plt.xticks(tick_marks, classes, rotation=45)\n",
        "  plt.yticks(tick_marks, classes)\n",
        "\n",
        "\n",
        "  fmt='.2f' if normalize else 'd'\n",
        "  thresh = cm.max() / 2.\n",
        "  for i , j in itertools.product(range(cm.shape[0]), range(cm.shape[1])):\n",
        "    plt.text(j, i, format(cm[i,j], fmt),\n",
        "            horizontalalignment=\"center\",\n",
        "            color = \"white\" if cm[i, j] > thresh else \"black\")\n",
        "\n",
        "  plt.tight_layout()\n",
        "  plt.ylabel('True Label')\n",
        "  plt.xlabel('Predicted label')\n",
        "  plt.show()\n",
        "\n",
        "\n",
        "p_test = model.predict(x_test).argmax(axis=1)\n",
        "cm = confusion_matrix(y_test, p_test)\n",
        "plot_confusion_matrix(cm, list(range(10)))"
      ],
      "execution_count": 10,
      "outputs": [
        {
          "output_type": "stream",
          "text": [
            "Confusion Matrix without normalization\n",
            "[[876   0  22   9   1   0  84   0   8   0]\n",
            " [  2 973   3  15   2   1   3   0   1   0]\n",
            " [ 21   0 888   7  35   0  47   0   1   1]\n",
            " [ 21   7  24 895  25   0  25   0   3   0]\n",
            " [  2   1  67  13 842   0  71   0   4   0]\n",
            " [  1   0   0   0   0 982   0  12   0   5]\n",
            " [108   2  74  24  73   1 711   0   7   0]\n",
            " [  0   0   0   0   0  12   0 962   0  26]\n",
            " [  4   1   4   2   2   1   5   1 979   1]\n",
            " [  1   0   0   0   0   5   0  31   0 963]]\n"
          ],
          "name": "stdout"
        },
        {
          "output_type": "display_data",
          "data": {
            "image/png": "[encoded data removed]",
            "text/plain": [
              "<Figure size 432x288 with 2 Axes>"
            ]
          },
          "metadata": {
            "tags": [],
            "needs_background": "light"
          }
        }
      ]
    },
    {
      "cell_type": "code",
      "metadata": {
        "id": "WJTwjwDZlxxV",
        "colab": {
          "base_uri": "https://localhost:8080/",
          "height": 281
        },
        "outputId": "6707093b-6b74-478f-f980-e021ca034b27"
      },
      "source": [
        "# Show some misclassified examples\n",
        "\n",
        "misclassified_idx = np.where(p_test != y_test)[0]\n",
        "i = np.random.choice(misclassified_idx)\n",
        "plt.imshow(x_test[i].reshape(28,28), cmap='gray')\n",
        "plt.title(\"True Label: %s Predicted: %s\" % (y_test[i], p_test[i]));"
      ],
      "execution_count": 11,
      "outputs": [
        {
          "output_type": "display_data",
          "data": {
            "image/png": "[encoded data removed]",
            "text/plain": [
              "<Figure size 432x288 with 1 Axes>"
            ]
          },
          "metadata": {
            "tags": [],
            "needs_background": "light"
          }
        }
      ]
    },
    {
      "cell_type": "code",
      "metadata": {
        "id": "8Jymj3lGmTWv"
      },
      "source": [
        "# Label Mapping\n",
        "\n",
        "labels = '''T-shirt/top\n",
        "Trouser\n",
        "Pullover\n",
        "Dress\n",
        "Coat\n",
        "Sandal\n",
        "Shirt\n",
        "Sneaker\n",
        "Bag\n",
        "Ankle Boot'''.split()"
      ],
      "execution_count": 12,
      "outputs": []
    },
    {
      "cell_type": "code",
      "metadata": {
        "id": "ThqZoJSKmljN",
        "colab": {
          "base_uri": "https://localhost:8080/"
        },
        "outputId": "3a9e0099-495f-4346-cdae-a7af6fb8cd92"
      },
      "source": [
        "labels"
      ],
      "execution_count": 13,
      "outputs": [
        {
          "output_type": "execute_result",
          "data": {
            "text/plain": [
              "['T-shirt/top',\n",
              " 'Trouser',\n",
              " 'Pullover',\n",
              " 'Dress',\n",
              " 'Coat',\n",
              " 'Sandal',\n",
              " 'Shirt',\n",
              " 'Sneaker',\n",
              " 'Bag',\n",
              " 'Ankle',\n",
              " 'Boot']"
            ]
          },
          "metadata": {
            "tags": []
          },
          "execution_count": 13
        }
      ]
    },
    {
      "cell_type": "code",
      "metadata": {
        "id": "1RtxK_3Rmvsm"
      },
      "source": [
        ""
      ],
      "execution_count": 13,
      "outputs": []
    },
    {
      "cell_type": "markdown",
      "metadata": {
        "id": "Dvi5u8HLu4zl"
      },
      "source": [
        "# Saving the Model"
      ]
    },
    {
      "cell_type": "code",
      "metadata": {
        "id": "6kquQXLCu7d4"
      },
      "source": [
        "model.save('CNN_fashion_MNIST.h5')"
      ],
      "execution_count": 17,
      "outputs": []
    },
    {
      "cell_type": "code",
      "metadata": {
        "colab": {
          "base_uri": "https://localhost:8080/"
        },
        "id": "pXcW_A6pkIlg",
        "outputId": "bd235f16-4019-4826-e446-b582b7dfd3fd"
      },
      "source": [
        "!ls -lh"
      ],
      "execution_count": 18,
      "outputs": [
        {
          "output_type": "stream",
          "text": [
            "total 8.4M\n",
            "-rw-r--r-- 1 root root 4.2M Jan 24 19:01 CNN_fashion_MNIST.h5\n",
            "-rw-r--r-- 1 root root 4.2M Jan 24 18:47 CNN_fasion_MNIST.h5\n",
            "drwxr-xr-x 1 root root 4.0K Jan 20 17:27 sample_data\n"
          ],
          "name": "stdout"
        }
      ]
    },
    {
      "cell_type": "code",
      "metadata": {
        "colab": {
          "base_uri": "https://localhost:8080/"
        },
        "id": "ckosV5iBkOpR",
        "outputId": "039c6a0b-5278-467a-a0b2-65b52c5a82ad"
      },
      "source": [
        "# Lets Load the model and confirm that it still works\r\n",
        "\r\n",
        "model = tf.keras.models.load_model('CNN_fashion_MNIST.h5')\r\n",
        "print(model.layers)\r\n"
      ],
      "execution_count": 19,
      "outputs": [
        {
          "output_type": "stream",
          "text": [
            "[<tensorflow.python.keras.engine.input_layer.InputLayer object at 0x7fd5c033c588>, <tensorflow.python.keras.layers.convolutional.Conv2D object at 0x7fd5c033c8d0>, <tensorflow.python.keras.layers.convolutional.Conv2D object at 0x7fd5c033ce10>, <tensorflow.python.keras.layers.convolutional.Conv2D object at 0x7fd5c034d4a8>, <tensorflow.python.keras.layers.core.Flatten object at 0x7fd5c034da58>, <tensorflow.python.keras.layers.core.Dropout object at 0x7fd5c034dc50>, <tensorflow.python.keras.layers.core.Dense object at 0x7fd5c09edf98>, <tensorflow.python.keras.layers.core.Dropout object at 0x7fd5c034e080>, <tensorflow.python.keras.layers.core.Dense object at 0x7fd5c034e240>]\n"
          ],
          "name": "stdout"
        }
      ]
    },
    {
      "cell_type": "code",
      "metadata": {
        "id": "bsX90-EdxWiR"
      },
      "source": [
        ""
      ],
      "execution_count": null,
      "outputs": []
    }
  ]
}